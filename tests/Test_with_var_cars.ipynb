{
 "cells": [
  {
   "cell_type": "code",
   "execution_count": 1,
   "id": "4b18a548",
   "metadata": {},
   "outputs": [
    {
     "name": "stdout",
     "output_type": "stream",
     "text": [
      "     mpg  cyl   disp   hp  drat     wt   qsec     vs     am   gear  carb  \\\n",
      "0   21.0    6  160.0  110  3.90  2.620  16.46  False   True   four     4   \n",
      "1   21.0    6  160.0  110  3.90  2.875  17.02  False   True   four     4   \n",
      "2   22.8    4  108.0   93  3.85  2.320  18.61   True   True   four     1   \n",
      "3   21.4    6  258.0  110  3.08  3.215  19.44   True  False  three     1   \n",
      "4   18.7    8  360.0  175  3.15  3.440  17.02  False  False  three     2   \n",
      "5   18.1    6  225.0  105  2.76  3.460  20.22   True  False  three     1   \n",
      "6   14.3    8  360.0  245  3.21  3.570  15.84  False  False  three     4   \n",
      "7   24.4    4  146.7   62  3.69  3.190  20.00   True  False   four     2   \n",
      "8   22.8    4  140.8   95  3.92  3.150  22.90   True  False   four     2   \n",
      "9   19.2    6  167.6  123  3.92  3.440  18.30   True  False   four     4   \n",
      "10  17.8    6  167.6  123  3.92  3.440  18.90   True  False   four     4   \n",
      "11  16.4    8  275.8  180  3.07  4.070  17.40  False  False  three     3   \n",
      "12  17.3    8  275.8  180  3.07  3.730  17.60  False  False  three     3   \n",
      "13  15.2    8  275.8  180  3.07  3.780  18.00  False  False  three     3   \n",
      "14  10.4    8  472.0  205  2.93  5.250  17.98  False  False  three     4   \n",
      "15  10.4    8  460.0  215  3.00  5.424  17.82  False  False  three     4   \n",
      "16  14.7    8  440.0  230  3.23  5.345  17.42  False  False  three     4   \n",
      "17  32.4    4   78.7   66  4.08  2.200  19.47   True   True   four     1   \n",
      "18  30.4    4   75.7   52  4.93  1.615  18.52   True   True   four     2   \n",
      "19  33.9    4   71.1   65  4.22  1.835  19.90   True   True   four     1   \n",
      "20  21.5    4  120.1   97  3.70  2.465  20.01   True  False  three     1   \n",
      "21  15.5    8  318.0  150  2.76  3.520  16.87  False  False  three     2   \n",
      "22  15.2    8  304.0  150  3.15  3.435  17.30  False  False  three     2   \n",
      "23  13.3    8  350.0  245  3.73  3.840  15.41  False  False  three     4   \n",
      "24  19.2    8  400.0  175  3.08  3.845  17.05  False  False  three     2   \n",
      "25  27.3    4   79.0   66  4.08  1.935  18.90   True   True   four     1   \n",
      "26  26.0    4  120.3   91  4.43  2.140  16.70  False   True   five     2   \n",
      "27  30.4    4   95.1  113  3.77  1.513  16.90   True   True   five     2   \n",
      "28  15.8    8  351.0  264  4.22  3.170  14.50  False   True   five     4   \n",
      "29  19.7    6  145.0  175  3.62  2.770  15.50  False   True   five     6   \n",
      "30  15.0    8  301.0  335  3.54  3.570  14.60  False   True   five     8   \n",
      "31  21.4    4  121.0  109  4.11  2.780  18.60   True   True   four     2   \n",
      "\n",
      "    country  \n",
      "0     Japan  \n",
      "1     Japan  \n",
      "2     Japan  \n",
      "3       USA  \n",
      "4       USA  \n",
      "5       USA  \n",
      "6       USA  \n",
      "7   Germany  \n",
      "8   Germany  \n",
      "9   Germany  \n",
      "10  Germany  \n",
      "11  Germany  \n",
      "12  Germany  \n",
      "13  Germany  \n",
      "14      USA  \n",
      "15      USA  \n",
      "16      USA  \n",
      "17    Italy  \n",
      "18    Japan  \n",
      "19    Japan  \n",
      "20    Japan  \n",
      "21      USA  \n",
      "22      USA  \n",
      "23      USA  \n",
      "24      USA  \n",
      "25    Italy  \n",
      "26  Germany  \n",
      "27       UK  \n",
      "28      USA  \n",
      "29    Italy  \n",
      "30    Italy  \n",
      "31   Sweden  \n"
     ]
    }
   ],
   "source": [
    "import pandas as pd\n",
    "from sklearn.ensemble import RandomForestRegressor\n",
    "from sklearn.linear_model import LinearRegression\n",
    "import numpy as np\n",
    "import matplotlib.pyplot as plt\n",
    "import seaborn as sns\n",
    "\n",
    "# Load data from CSV\n",
    "data = pd.read_csv(\"var_cars.csv\")\n",
    "print(data)"
   ]
  },
  {
   "cell_type": "code",
   "execution_count": 2,
   "id": "1bc30186",
   "metadata": {},
   "outputs": [],
   "source": [
    "from sklearn.preprocessing import LabelEncoder\n",
    "import pandas as pd\n",
    "\n",
    "# List of categorical columns\n",
    "categorical_cols = [\"vs\", \"am\", \"gear\", \"country\"]\n",
    "\n",
    "# Apply Label Encoding\n",
    "label_encoders = {}\n",
    "for col in categorical_cols:\n",
    "    label_encoders[col] = LabelEncoder()\n",
    "    data[col] = label_encoders[col].fit_transform(data[col])"
   ]
  },
  {
   "cell_type": "code",
   "execution_count": 3,
   "id": "ab836843",
   "metadata": {},
   "outputs": [],
   "source": [
    "data = data.astype({'vs': 'category', 'am': 'category','gear':'category','country': 'category'})"
   ]
  },
  {
   "cell_type": "code",
   "execution_count": 4,
   "id": "2c047a20",
   "metadata": {},
   "outputs": [
    {
     "name": "stdout",
     "output_type": "stream",
     "text": [
      "mpg         float64\n",
      "cyl           int64\n",
      "disp        float64\n",
      "hp            int64\n",
      "drat        float64\n",
      "wt          float64\n",
      "qsec        float64\n",
      "vs         category\n",
      "am         category\n",
      "gear       category\n",
      "carb          int64\n",
      "country    category\n",
      "dtype: object\n"
     ]
    }
   ],
   "source": [
    "print(data.dtypes)"
   ]
  },
  {
   "cell_type": "code",
   "execution_count": 9,
   "id": "af829e5d",
   "metadata": {},
   "outputs": [
    {
     "name": "stdout",
     "output_type": "stream",
     "text": [
      "Requirement already satisfied: pygam in /Users/taoyanling/anaconda3/lib/python3.11/site-packages (0.9.1)\n",
      "Requirement already satisfied: numpy>=1.25 in /Users/taoyanling/anaconda3/lib/python3.11/site-packages (from pygam) (1.26.4)\n",
      "Requirement already satisfied: progressbar2<5.0.0,>=4.2.0 in /Users/taoyanling/anaconda3/lib/python3.11/site-packages (from pygam) (4.4.2)\n",
      "Requirement already satisfied: scipy<1.12,>=1.11.1 in /Users/taoyanling/anaconda3/lib/python3.11/site-packages (from pygam) (1.11.1)\n",
      "Requirement already satisfied: python-utils>=3.8.1 in /Users/taoyanling/anaconda3/lib/python3.11/site-packages (from progressbar2<5.0.0,>=4.2.0->pygam) (3.8.2)\n",
      "Requirement already satisfied: typing-extensions>3.10.0.2 in /Users/taoyanling/anaconda3/lib/python3.11/site-packages (from python-utils>=3.8.1->progressbar2<5.0.0,>=4.2.0->pygam) (4.7.1)\n"
     ]
    }
   ],
   "source": [
    "!pip install pygam"
   ]
  },
  {
   "cell_type": "code",
   "execution_count": 10,
   "id": "0978f3ed",
   "metadata": {},
   "outputs": [
    {
     "name": "stdout",
     "output_type": "stream",
     "text": [
      "Training R^2 score: 0.7466\n",
      "Testing R^2 score: 0.6890\n"
     ]
    },
    {
     "name": "stderr",
     "output_type": "stream",
     "text": [
      "/Users/taoyanling/anaconda3/lib/python3.11/site-packages/sklearn/neural_network/_multilayer_perceptron.py:691: ConvergenceWarning: Stochastic Optimizer: Maximum iterations (200) reached and the optimization hasn't converged yet.\n",
      "  warnings.warn(\n",
      "/Users/taoyanling/anaconda3/lib/python3.11/site-packages/sklearn/linear_model/_glm/glm.py:282: ConvergenceWarning: lbfgs failed to converge (status=1):\n",
      "STOP: TOTAL NO. of ITERATIONS REACHED LIMIT.\n",
      "\n",
      "Increase the number of iterations (max_iter) or scale the data as shown in:\n",
      "    https://scikit-learn.org/stable/modules/preprocessing.html\n",
      "  self.n_iter_ = _check_optimize_result(\"lbfgs\", opt_res)\n"
     ]
    }
   ],
   "source": [
    "from sklearn.linear_model import LinearRegression, LogisticRegression\n",
    "from sklearn.neural_network import MLPRegressor as mlp\n",
    "from sklearn.linear_model import GammaRegressor as gam\n",
    "from pygam import LinearGAM, s, f\n",
    "\n",
    "import pandas as pd\n",
    "from sklearn.model_selection import train_test_split\n",
    "\n",
    "# I have loaded your dataset into a DataFrame 'data'\n",
    "X = data.drop(columns=['mpg'])  # Features\n",
    "y = data['mpg']  # Target variable\n",
    "\n",
    "# Optionally, split data into training and testing sets\n",
    "X_train, X_test, y_train, y_test = train_test_split(X, y, test_size=0.2, random_state=42)\n",
    "\n",
    "model_1 = LinearRegression()\n",
    "# Train the model\n",
    "model_1.fit(X_train, y_train)\n",
    "\n",
    "model_2 = mlp(hidden_layer_sizes=5, activation=\"relu\")\n",
    "model_2.fit(X_train, y_train)\n",
    "\n",
    "model_3 = gam()\n",
    "model_3.fit(X_train, y_train)\n",
    "\n",
    "model_4 = LinearGAM(s(0, n_splines=30)).fit(X, y)\n",
    "\n",
    "# Example evaluation\n",
    "train_score = model_4.score(X_train, y_train)\n",
    "test_score = model_4.score(X_test, y_test)\n",
    "\n",
    "print(f\"Training R^2 score: {train_score:.4f}\")\n",
    "print(f\"Testing R^2 score: {test_score:.4f}\")"
   ]
  },
  {
   "cell_type": "code",
   "execution_count": 13,
   "id": "688890e2",
   "metadata": {
    "scrolled": true
   },
   "outputs": [
    {
     "name": "stdout",
     "output_type": "stream",
     "text": [
      "Requirement already satisfied: scikit-explain in /Users/taoyanling/anaconda3/lib/python3.11/site-packages (0.1.4)\n",
      "Requirement already satisfied: numpy in /Users/taoyanling/anaconda3/lib/python3.11/site-packages (from scikit-explain) (1.24.4)\n",
      "Requirement already satisfied: pandas in /Users/taoyanling/anaconda3/lib/python3.11/site-packages (from scikit-explain) (2.0.3)\n",
      "Requirement already satisfied: scikit-learn>=1.0.0 in /Users/taoyanling/anaconda3/lib/python3.11/site-packages (from scikit-explain) (1.3.0)\n",
      "Requirement already satisfied: matplotlib in /Users/taoyanling/anaconda3/lib/python3.11/site-packages (from scikit-explain) (3.7.2)\n",
      "Requirement already satisfied: shap>=0.30.0 in /Users/taoyanling/anaconda3/lib/python3.11/site-packages (from scikit-explain) (0.45.1)\n",
      "Requirement already satisfied: xarray>=0.16.0 in /Users/taoyanling/anaconda3/lib/python3.11/site-packages (from scikit-explain) (2023.6.0)\n",
      "Requirement already satisfied: tqdm in /Users/taoyanling/anaconda3/lib/python3.11/site-packages (from scikit-explain) (4.65.0)\n",
      "Requirement already satisfied: ipywidgets in /Users/taoyanling/anaconda3/lib/python3.11/site-packages (from scikit-explain) (8.0.4)\n",
      "Requirement already satisfied: statsmodels in /Users/taoyanling/anaconda3/lib/python3.11/site-packages (from scikit-explain) (0.14.0)\n",
      "Requirement already satisfied: seaborn>=0.11.0 in /Users/taoyanling/anaconda3/lib/python3.11/site-packages (from scikit-explain) (0.12.2)\n",
      "Requirement already satisfied: scipy>=1.5.0 in /Users/taoyanling/anaconda3/lib/python3.11/site-packages (from scikit-learn>=1.0.0->scikit-explain) (1.11.1)\n",
      "Requirement already satisfied: joblib>=1.1.1 in /Users/taoyanling/anaconda3/lib/python3.11/site-packages (from scikit-learn>=1.0.0->scikit-explain) (1.2.0)\n",
      "Requirement already satisfied: threadpoolctl>=2.0.0 in /Users/taoyanling/anaconda3/lib/python3.11/site-packages (from scikit-learn>=1.0.0->scikit-explain) (2.2.0)\n",
      "Requirement already satisfied: contourpy>=1.0.1 in /Users/taoyanling/anaconda3/lib/python3.11/site-packages (from matplotlib->scikit-explain) (1.0.5)\n",
      "Requirement already satisfied: cycler>=0.10 in /Users/taoyanling/anaconda3/lib/python3.11/site-packages (from matplotlib->scikit-explain) (0.11.0)\n",
      "Requirement already satisfied: fonttools>=4.22.0 in /Users/taoyanling/anaconda3/lib/python3.11/site-packages (from matplotlib->scikit-explain) (4.25.0)\n",
      "Requirement already satisfied: kiwisolver>=1.0.1 in /Users/taoyanling/anaconda3/lib/python3.11/site-packages (from matplotlib->scikit-explain) (1.4.4)\n",
      "Requirement already satisfied: packaging>=20.0 in /Users/taoyanling/anaconda3/lib/python3.11/site-packages (from matplotlib->scikit-explain) (23.1)\n",
      "Requirement already satisfied: pillow>=6.2.0 in /Users/taoyanling/anaconda3/lib/python3.11/site-packages (from matplotlib->scikit-explain) (9.4.0)\n",
      "Requirement already satisfied: pyparsing<3.1,>=2.3.1 in /Users/taoyanling/anaconda3/lib/python3.11/site-packages (from matplotlib->scikit-explain) (3.0.9)\n",
      "Requirement already satisfied: python-dateutil>=2.7 in /Users/taoyanling/anaconda3/lib/python3.11/site-packages (from matplotlib->scikit-explain) (2.8.2)\n",
      "Requirement already satisfied: pytz>=2020.1 in /Users/taoyanling/anaconda3/lib/python3.11/site-packages (from pandas->scikit-explain) (2023.3.post1)\n",
      "Requirement already satisfied: tzdata>=2022.1 in /Users/taoyanling/anaconda3/lib/python3.11/site-packages (from pandas->scikit-explain) (2023.3)\n",
      "Requirement already satisfied: slicer==0.0.8 in /Users/taoyanling/anaconda3/lib/python3.11/site-packages (from shap>=0.30.0->scikit-explain) (0.0.8)\n",
      "Requirement already satisfied: numba in /Users/taoyanling/anaconda3/lib/python3.11/site-packages (from shap>=0.30.0->scikit-explain) (0.57.1)\n",
      "Requirement already satisfied: cloudpickle in /Users/taoyanling/anaconda3/lib/python3.11/site-packages (from shap>=0.30.0->scikit-explain) (2.2.1)\n",
      "Requirement already satisfied: ipykernel>=4.5.1 in /Users/taoyanling/anaconda3/lib/python3.11/site-packages (from ipywidgets->scikit-explain) (6.25.0)\n",
      "Requirement already satisfied: ipython>=6.1.0 in /Users/taoyanling/anaconda3/lib/python3.11/site-packages (from ipywidgets->scikit-explain) (8.15.0)\n",
      "Requirement already satisfied: traitlets>=4.3.1 in /Users/taoyanling/anaconda3/lib/python3.11/site-packages (from ipywidgets->scikit-explain) (5.7.1)\n",
      "Requirement already satisfied: widgetsnbextension~=4.0 in /Users/taoyanling/anaconda3/lib/python3.11/site-packages (from ipywidgets->scikit-explain) (4.0.5)\n",
      "Requirement already satisfied: jupyterlab-widgets~=3.0 in /Users/taoyanling/anaconda3/lib/python3.11/site-packages (from ipywidgets->scikit-explain) (3.0.5)\n",
      "Requirement already satisfied: patsy>=0.5.2 in /Users/taoyanling/anaconda3/lib/python3.11/site-packages (from statsmodels->scikit-explain) (0.5.3)\n",
      "Requirement already satisfied: appnope in /Users/taoyanling/anaconda3/lib/python3.11/site-packages (from ipykernel>=4.5.1->ipywidgets->scikit-explain) (0.1.2)\n",
      "Requirement already satisfied: comm>=0.1.1 in /Users/taoyanling/anaconda3/lib/python3.11/site-packages (from ipykernel>=4.5.1->ipywidgets->scikit-explain) (0.1.2)\n",
      "Requirement already satisfied: debugpy>=1.6.5 in /Users/taoyanling/anaconda3/lib/python3.11/site-packages (from ipykernel>=4.5.1->ipywidgets->scikit-explain) (1.6.7)\n",
      "Requirement already satisfied: jupyter-client>=6.1.12 in /Users/taoyanling/anaconda3/lib/python3.11/site-packages (from ipykernel>=4.5.1->ipywidgets->scikit-explain) (7.4.9)\n",
      "Requirement already satisfied: jupyter-core!=5.0.*,>=4.12 in /Users/taoyanling/anaconda3/lib/python3.11/site-packages (from ipykernel>=4.5.1->ipywidgets->scikit-explain) (5.3.0)\n",
      "Requirement already satisfied: matplotlib-inline>=0.1 in /Users/taoyanling/anaconda3/lib/python3.11/site-packages (from ipykernel>=4.5.1->ipywidgets->scikit-explain) (0.1.6)\n",
      "Requirement already satisfied: nest-asyncio in /Users/taoyanling/anaconda3/lib/python3.11/site-packages (from ipykernel>=4.5.1->ipywidgets->scikit-explain) (1.5.6)\n",
      "Requirement already satisfied: psutil in /Users/taoyanling/anaconda3/lib/python3.11/site-packages (from ipykernel>=4.5.1->ipywidgets->scikit-explain) (5.9.0)\n",
      "Requirement already satisfied: pyzmq>=20 in /Users/taoyanling/anaconda3/lib/python3.11/site-packages (from ipykernel>=4.5.1->ipywidgets->scikit-explain) (23.2.0)\n",
      "Requirement already satisfied: tornado>=6.1 in /Users/taoyanling/anaconda3/lib/python3.11/site-packages (from ipykernel>=4.5.1->ipywidgets->scikit-explain) (6.3.2)\n",
      "Requirement already satisfied: backcall in /Users/taoyanling/anaconda3/lib/python3.11/site-packages (from ipython>=6.1.0->ipywidgets->scikit-explain) (0.2.0)\n",
      "Requirement already satisfied: decorator in /Users/taoyanling/anaconda3/lib/python3.11/site-packages (from ipython>=6.1.0->ipywidgets->scikit-explain) (5.1.1)\n",
      "Requirement already satisfied: jedi>=0.16 in /Users/taoyanling/anaconda3/lib/python3.11/site-packages (from ipython>=6.1.0->ipywidgets->scikit-explain) (0.18.1)\n",
      "Requirement already satisfied: pickleshare in /Users/taoyanling/anaconda3/lib/python3.11/site-packages (from ipython>=6.1.0->ipywidgets->scikit-explain) (0.7.5)\n",
      "Requirement already satisfied: prompt-toolkit!=3.0.37,<3.1.0,>=3.0.30 in /Users/taoyanling/anaconda3/lib/python3.11/site-packages (from ipython>=6.1.0->ipywidgets->scikit-explain) (3.0.36)\n",
      "Requirement already satisfied: pygments>=2.4.0 in /Users/taoyanling/anaconda3/lib/python3.11/site-packages (from ipython>=6.1.0->ipywidgets->scikit-explain) (2.15.1)\n",
      "Requirement already satisfied: stack-data in /Users/taoyanling/anaconda3/lib/python3.11/site-packages (from ipython>=6.1.0->ipywidgets->scikit-explain) (0.2.0)\n",
      "Requirement already satisfied: pexpect>4.3 in /Users/taoyanling/anaconda3/lib/python3.11/site-packages (from ipython>=6.1.0->ipywidgets->scikit-explain) (4.8.0)\n",
      "Requirement already satisfied: six in /Users/taoyanling/anaconda3/lib/python3.11/site-packages (from patsy>=0.5.2->statsmodels->scikit-explain) (1.16.0)\n",
      "Requirement already satisfied: llvmlite<0.41,>=0.40.0dev0 in /Users/taoyanling/anaconda3/lib/python3.11/site-packages (from numba->shap>=0.30.0->scikit-explain) (0.40.0)\n",
      "Requirement already satisfied: parso<0.9.0,>=0.8.0 in /Users/taoyanling/anaconda3/lib/python3.11/site-packages (from jedi>=0.16->ipython>=6.1.0->ipywidgets->scikit-explain) (0.8.3)\n",
      "Requirement already satisfied: entrypoints in /Users/taoyanling/anaconda3/lib/python3.11/site-packages (from jupyter-client>=6.1.12->ipykernel>=4.5.1->ipywidgets->scikit-explain) (0.4)\n"
     ]
    },
    {
     "name": "stdout",
     "output_type": "stream",
     "text": [
      "Requirement already satisfied: platformdirs>=2.5 in /Users/taoyanling/anaconda3/lib/python3.11/site-packages (from jupyter-core!=5.0.*,>=4.12->ipykernel>=4.5.1->ipywidgets->scikit-explain) (3.10.0)\n",
      "Requirement already satisfied: ptyprocess>=0.5 in /Users/taoyanling/anaconda3/lib/python3.11/site-packages (from pexpect>4.3->ipython>=6.1.0->ipywidgets->scikit-explain) (0.7.0)\n",
      "Requirement already satisfied: wcwidth in /Users/taoyanling/anaconda3/lib/python3.11/site-packages (from prompt-toolkit!=3.0.37,<3.1.0,>=3.0.30->ipython>=6.1.0->ipywidgets->scikit-explain) (0.2.5)\n",
      "Requirement already satisfied: executing in /Users/taoyanling/anaconda3/lib/python3.11/site-packages (from stack-data->ipython>=6.1.0->ipywidgets->scikit-explain) (0.8.3)\n",
      "Requirement already satisfied: asttokens in /Users/taoyanling/anaconda3/lib/python3.11/site-packages (from stack-data->ipython>=6.1.0->ipywidgets->scikit-explain) (2.0.5)\n",
      "Requirement already satisfied: pure-eval in /Users/taoyanling/anaconda3/lib/python3.11/site-packages (from stack-data->ipython>=6.1.0->ipywidgets->scikit-explain) (0.2.2)\n"
     ]
    }
   ],
   "source": [
    "!pip install scikit-explain"
   ]
  },
  {
   "cell_type": "code",
   "execution_count": 15,
   "id": "d7ff3b03",
   "metadata": {},
   "outputs": [],
   "source": [
    "import skexplain\n",
    "explainer = skexplain.ExplainToolkit(('LinearRegression', model_1), X=X, y=y,)"
   ]
  },
  {
   "cell_type": "code",
   "execution_count": 16,
   "id": "5f0aa907",
   "metadata": {},
   "outputs": [
    {
     "name": "stderr",
     "output_type": "stream",
     "text": [
      "ALE Numerical Features: 100%|█████████████████████| 7/7 [00:00<00:00, 62.13it/s]\n",
      "ALE Categorical Features: 100%|███████████████████| 4/4 [00:01<00:00,  3.90it/s]\n"
     ]
    }
   ],
   "source": [
    "ale_1d_ds = explainer.ale(features='all', n_bootstrap=2, subsample=10000, n_jobs=1, n_bins=20)"
   ]
  },
  {
   "cell_type": "code",
   "execution_count": 17,
   "id": "901f8d98",
   "metadata": {},
   "outputs": [],
   "source": [
    "# Ensure the columns are properly categorized\n",
    "data = data.astype({\n",
    "    'vs': pd.CategoricalDtype(categories=['FALSE', 'TRUE']),\n",
    "    'am': pd.CategoricalDtype(categories=['TRUE', 'FALSE']),\n",
    "    'gear': pd.CategoricalDtype(categories=['three', 'four', 'five'], ordered=True),\n",
    "    'country': pd.CategoricalDtype(categories=['Sweden', 'UK', 'Japan', 'Italy', 'Germany', 'USA'])\n",
    "})"
   ]
  },
  {
   "cell_type": "code",
   "execution_count": 20,
   "id": "c401361c",
   "metadata": {},
   "outputs": [
    {
     "ename": "ModuleNotFoundError",
     "evalue": "No module named 'pyale'",
     "output_type": "error",
     "traceback": [
      "\u001b[0;31m---------------------------------------------------------------------------\u001b[0m",
      "\u001b[0;31mModuleNotFoundError\u001b[0m                       Traceback (most recent call last)",
      "Cell \u001b[0;32mIn[20], line 1\u001b[0m\n\u001b[0;32m----> 1\u001b[0m \u001b[38;5;28;01mfrom\u001b[39;00m \u001b[38;5;21;01mpyale\u001b[39;00m \u001b[38;5;28;01mimport\u001b[39;00m pyale\n\u001b[1;32m      2\u001b[0m ale_plot(data, target_col\u001b[38;5;241m=\u001b[39m\u001b[38;5;124m'\u001b[39m\u001b[38;5;124mmpg\u001b[39m\u001b[38;5;124m'\u001b[39m, ale_ds\u001b[38;5;241m=\u001b[39male_1d_ds, categorical_cols\u001b[38;5;241m=\u001b[39m[\u001b[38;5;124m'\u001b[39m\u001b[38;5;124mvs\u001b[39m\u001b[38;5;124m'\u001b[39m, \u001b[38;5;124m'\u001b[39m\u001b[38;5;124mam\u001b[39m\u001b[38;5;124m'\u001b[39m, \u001b[38;5;124m'\u001b[39m\u001b[38;5;124mgear\u001b[39m\u001b[38;5;124m'\u001b[39m, \u001b[38;5;124m'\u001b[39m\u001b[38;5;124mcountry\u001b[39m\u001b[38;5;124m'\u001b[39m], centralization\u001b[38;5;241m=\u001b[39m\u001b[38;5;124m'\u001b[39m\u001b[38;5;124mmedian\u001b[39m\u001b[38;5;124m'\u001b[39m)\n",
      "\u001b[0;31mModuleNotFoundError\u001b[0m: No module named 'pyale'"
     ]
    }
   ],
   "source": [
    "from pyale import pyale\n",
    "ale_plot(data, target_col='mpg', ale_ds=ale_1d_ds, categorical_cols=['vs', 'am', 'gear', 'country'], centralization='median')"
   ]
  }
 ],
 "metadata": {
  "kernelspec": {
   "display_name": "Python 3 (ipykernel)",
   "language": "python",
   "name": "python3"
  },
  "language_info": {
   "codemirror_mode": {
    "name": "ipython",
    "version": 3
   },
   "file_extension": ".py",
   "mimetype": "text/x-python",
   "name": "python",
   "nbconvert_exporter": "python",
   "pygments_lexer": "ipython3",
   "version": "3.11.5"
  }
 },
 "nbformat": 4,
 "nbformat_minor": 5
}
